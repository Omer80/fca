{
 "cells": [
  {
   "cell_type": "code",
   "execution_count": 7,
   "metadata": {
    "collapsed": true
   },
   "outputs": [],
   "source": [
    "import fast_convolution_integral_algorithm_cy\n",
    "import fast_convolution_integral_algorithm\n",
    "import numpy as np"
   ]
  },
  {
   "cell_type": "code",
   "execution_count": 2,
   "metadata": {
    "collapsed": true
   },
   "outputs": [],
   "source": [
    "fixed_phi = np.linspace(0.1,1.0,8)\n",
    "phi = np.random.random((252,252))"
   ]
  },
  {
   "cell_type": "code",
   "execution_count": 6,
   "metadata": {},
   "outputs": [
    {
     "data": {
      "text/plain": [
       "True"
      ]
     },
     "execution_count": 6,
     "metadata": {},
     "output_type": "execute_result"
    }
   ],
   "source": [
    "fout = fast_convolution_integral_algorithm.calcAlpha(phi,fixed_phi)\n",
    "fout_cy = fast_convolution_integral_algorithm_cy.calcAlpha_cython(phi,fixed_phi)\n",
    "np.allclose(fout,fout_cy)"
   ]
  },
  {
   "cell_type": "code",
   "execution_count": 3,
   "metadata": {},
   "outputs": [
    {
     "name": "stdout",
     "output_type": "stream",
     "text": [
      "10 loops, best of 3: 29.6 ms per loop\n"
     ]
    }
   ],
   "source": [
    "%timeit fast_convolution_integral_algorithm.calcAlpha(phi,fixed_phi)"
   ]
  },
  {
   "cell_type": "code",
   "execution_count": 4,
   "metadata": {},
   "outputs": [
    {
     "name": "stdout",
     "output_type": "stream",
     "text": [
      "100 loops, best of 3: 15.5 ms per loop\n"
     ]
    }
   ],
   "source": [
    "%timeit fast_convolution_integral_algorithm_cy.calcAlpha_cython(phi,fixed_phi)"
   ]
  }
 ],
 "metadata": {
  "kernelspec": {
   "display_name": "Python matplotlib2",
   "language": "python",
   "name": "other-env"
  },
  "language_info": {
   "codemirror_mode": {
    "name": "ipython",
    "version": 2
   },
   "file_extension": ".py",
   "mimetype": "text/x-python",
   "name": "python",
   "nbconvert_exporter": "python",
   "pygments_lexer": "ipython2",
   "version": "2.7.14"
  }
 },
 "nbformat": 4,
 "nbformat_minor": 2
}
